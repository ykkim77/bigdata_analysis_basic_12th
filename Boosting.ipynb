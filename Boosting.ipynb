{
  "cells": [
    {
      "cell_type": "markdown",
      "metadata": {},
      "source": [
        "# 앙상블 모델(Boosting 알고리즘)로 직원 이직 여부 예측하기"
      ]
    },
    {
      "cell_type": "markdown",
      "metadata": {},
      "source": [
        "## 라이브러리 임포트"
      ]
    },
    {
      "cell_type": "code",
      "execution_count": null,
      "metadata": {
        "id": "AI88ALOa30BV"
      },
      "outputs": [],
      "source": [
        "# 필요한 라이브러리 불러오기\n",
        "import numpy as np  # 수치 연산을 위한 NumPy\n",
        "import pandas as pd  # 데이터프레임 처리를 위한 Pandas\n",
        "\n",
        "from sklearn.ensemble import GradientBoostingClassifier  # GBM 분류기\n",
        "from sklearn.metrics import accuracy_score, log_loss, classification_report  # 평가 지표"
      ]
    },
    {
      "cell_type": "markdown",
      "metadata": {},
      "source": [
        "## 데이터 로드 및 기초 확인"
      ]
    },
    {
      "cell_type": "code",
      "execution_count": null,
      "metadata": {
        "id": "VR0pMknl3-md"
      },
      "outputs": [],
      "source": [
        "attrition = pd.read_csv('https://raw.githubusercontent.com/aettikang/bigdata_analysis_basic/main/HR-Employee-Attrition.csv')\n",
        "attrition.head()\n",
        "attrition.info()"
      ]
    },
    {
      "cell_type": "markdown",
      "metadata": {},
      "source": [
        "## 범주형 변수 → 더미 변수 변환"
      ]
    },
    {
      "cell_type": "code",
      "execution_count": null,
      "metadata": {
        "id": "7Lf8iNfm7fhK"
      },
      "outputs": [],
      "source": [
        "attrition_cat_dummies = pd.get_dummies(attrition) #가급적 get_dummies쓸것\n",
        "attrition_cat_dummies.head(3)"
      ]
    },
    {
      "cell_type": "markdown",
      "metadata": {},
      "source": [
        "## 입력(X)·출력(y) 분리"
      ]
    },
    {
      "cell_type": "code",
      "execution_count": 5,
      "metadata": {
        "id": "tqWW9XmlDPBA"
      },
      "outputs": [],
      "source": [
        "feature_columns = list(attrition_cat_dummies.columns.difference([\"Attrition\"]))\n",
        "\n",
        "X = attrition_cat_dummies[feature_columns]\n",
        "y = attrition_cat_dummies['Attrition'].astype('category') "
      ]
    },
    {
      "cell_type": "markdown",
      "metadata": {},
      "source": [
        "## 학습용·테스트용 데이터 분할"
      ]
    },
    {
      "cell_type": "code",
      "execution_count": 7,
      "metadata": {
        "id": "4STz2Aik74CO"
      },
      "outputs": [],
      "source": [
        "# Import the train_test_split method\n",
        "from sklearn.model_selection import train_test_split\n",
        "\n",
        "# Split data into train and test sets as well as for validation and testing\n",
        "train_X, test_X, train_y, test_y = train_test_split(X,y, \n",
        "                                              train_size= 0.80,\n",
        "                                              random_state=0);"
      ]
    },
    {
      "cell_type": "markdown",
      "metadata": {},
      "source": [
        "## 하이퍼파라미터 탐색"
      ]
    },
    {
      "cell_type": "code",
      "execution_count": null,
      "metadata": {
        "id": "dERIRtHQeArA"
      },
      "outputs": [],
      "source": [
        "from sklearn.model_selection import GridSearchCV\n",
        "\n",
        "gb_params = {\n",
        "    'n_estimators': [1000, 1500],\n",
        "    'max_depth': [4, 6],\n",
        "    'min_samples_leaf': [2, 4],\n",
        "    'max_features': [0.7, 0.9],\n",
        "    'learning_rate': [0.25, 0.3]\n",
        "}\n",
        "\n",
        "gb_clf = GradientBoostingClassifier(random_state=0)\n",
        "grid_cv = GridSearchCV(\n",
        "    gb_clf,\n",
        "    param_grid=gb_params,\n",
        "    cv=3,\n",
        "    n_jobs=-1\n",
        ")\n",
        "grid_cv.fit(train_X, train_y)\n",
        "\n",
        "print('최적 하이퍼 파라미터: ', grid_cv.best_params_)\n",
        "print('최고 교차검증 정확도: {:.4f}'.format(grid_cv.best_score_))\n"
      ]
    },
    {
      "cell_type": "markdown",
      "metadata": {},
      "source": [
        "## 최종 모델 학습·예측·평가"
      ]
    },
    {
      "cell_type": "code",
      "execution_count": null,
      "metadata": {
        "id": "TB9vO6Nv9mas"
      },
      "outputs": [],
      "source": [
        "best_gb = GradientBoostingClassifier(**grid_cv.best_params_, random_state=0)\n",
        "best_gb.fit(train_X, train_y)\n",
        "gb_predictions = best_gb.predict(test_X)\n",
        "print(\"Accuracy score:\", accuracy_score(test_y, gb_predictions))\n",
        "print(classification_report(test_y, gb_predictions))\n"
      ]
    },
    {
      "cell_type": "markdown",
      "metadata": {},
      "source": [
        "## 변수 중요도 확인 및 시각화"
      ]
    },
    {
      "cell_type": "code",
      "execution_count": null,
      "metadata": {
        "id": "BlfH9xYI-JuZ"
      },
      "outputs": [],
      "source": [
        "imp = best_gb.feature_importances_  # or grid_cv.best_estimator_.feature_importances_\n",
        "df = pd.DataFrame({\n",
        "    'Feature': feature_columns,\n",
        "    'Importance': imp\n",
        "})\n",
        "df = df.sort_values('Importance', ascending=False)[:5]\n",
        "\n",
        "import seaborn as sns\n",
        "import matplotlib.pyplot as plt\n",
        "%matplotlib inline\n",
        "\n",
        "sns.barplot(x='Importance', y='Feature', data=df);\n"
      ]
    }
  ],
  "metadata": {
    "colab": {
      "collapsed_sections": [],
      "include_colab_link": true,
      "name": "Boosting.ipynb",
      "provenance": []
    },
    "kernelspec": {
      "display_name": "Python 3",
      "name": "python3"
    },
    "language_info": {
      "name": "python"
    }
  },
  "nbformat": 4,
  "nbformat_minor": 0
}
