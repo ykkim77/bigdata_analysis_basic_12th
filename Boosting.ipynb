{
  "cells": [
    {
      "cell_type": "markdown",
      "metadata": {},
      "source": [
        "# 앙상블 모델(Boosting 알고리즘)로 직원 이직 여부 예측하기"
      ]
    },
    {
      "cell_type": "markdown",
      "metadata": {},
      "source": [
        "## 라이브러리 임포트"
      ]
    },
    {
      "cell_type": "code",
      "execution_count": 11,
      "metadata": {
        "id": "AI88ALOa30BV"
      },
      "outputs": [],
      "source": [
        "# 필요한 라이브러리 불러오기\n",
        "import numpy as np  # 수치 연산을 위한 NumPy\n",
        "import pandas as pd  # 데이터프레임 처리를 위한 Pandas\n",
        "\n",
        "from sklearn.ensemble import GradientBoostingClassifier  # GBM 분류기\n",
        "from sklearn.metrics import accuracy_score, classification_report, log_loss  # 성능 평가 지표\n",
        "from sklearn.model_selection import train_test_split, GridSearchCV  # 데이터 분할 및 하이퍼파라미터 탐색"
      ]
    },
    {
      "cell_type": "markdown",
      "metadata": {},
      "source": [
        "## 데이터 로드 및 기초 확인"
      ]
    },
    {
      "cell_type": "code",
      "execution_count": 12,
      "metadata": {
        "id": "VR0pMknl3-md"
      },
      "outputs": [
        {
          "name": "stdout",
          "output_type": "stream",
          "text": [
            "<class 'pandas.core.frame.DataFrame'>\n",
            "RangeIndex: 1470 entries, 0 to 1469\n",
            "Data columns (total 31 columns):\n",
            " #   Column                    Non-Null Count  Dtype \n",
            "---  ------                    --------------  ----- \n",
            " 0   Age                       1470 non-null   int64 \n",
            " 1   BusinessTravel            1470 non-null   object\n",
            " 2   DailyRate                 1470 non-null   int64 \n",
            " 3   Department                1470 non-null   object\n",
            " 4   DistanceFromHome          1470 non-null   int64 \n",
            " 5   Education                 1470 non-null   int64 \n",
            " 6   EducationField            1470 non-null   object\n",
            " 7   EnvironmentSatisfaction   1470 non-null   int64 \n",
            " 8   Gender                    1470 non-null   object\n",
            " 9   HourlyRate                1470 non-null   int64 \n",
            " 10  JobInvolvement            1470 non-null   int64 \n",
            " 11  JobLevel                  1470 non-null   int64 \n",
            " 12  JobRole                   1470 non-null   object\n",
            " 13  JobSatisfaction           1470 non-null   int64 \n",
            " 14  MaritalStatus             1470 non-null   object\n",
            " 15  MonthlyIncome             1470 non-null   int64 \n",
            " 16  MonthlyRate               1470 non-null   int64 \n",
            " 17  NumCompaniesWorked        1470 non-null   int64 \n",
            " 18  OverTime                  1470 non-null   object\n",
            " 19  PercentSalaryHike         1470 non-null   int64 \n",
            " 20  PerformanceRating         1470 non-null   int64 \n",
            " 21  RelationshipSatisfaction  1470 non-null   int64 \n",
            " 22  StockOptionLevel          1470 non-null   int64 \n",
            " 23  TotalWorkingYears         1470 non-null   int64 \n",
            " 24  TrainingTimesLastYear     1470 non-null   int64 \n",
            " 25  WorkLifeBalance           1470 non-null   int64 \n",
            " 26  YearsAtCompany            1470 non-null   int64 \n",
            " 27  YearsInCurrentRole        1470 non-null   int64 \n",
            " 28  YearsSinceLastPromotion   1470 non-null   int64 \n",
            " 29  YearsWithCurrManager      1470 non-null   int64 \n",
            " 30  Attrition                 1470 non-null   int64 \n",
            "dtypes: int64(24), object(7)\n",
            "memory usage: 356.1+ KB\n"
          ]
        }
      ],
      "source": [
        "attrition = pd.read_csv(\n",
        "    'https://raw.githubusercontent.com/aettikang/bigdata_analysis_basic/main/HR-Employee-Attrition.csv'\n",
        ")\n",
        "attrition.head()  # 처음 5개 행 출력\n",
        "attrition.info()  # 컬럼별 데이터 타입 및 결측치 정보 확인\n"
      ]
    },
    {
      "cell_type": "markdown",
      "metadata": {},
      "source": [
        "##  범주형 변수를 더미(One-Hot) 인코딩"
      ]
    },
    {
      "cell_type": "code",
      "execution_count": 13,
      "metadata": {
        "id": "7Lf8iNfm7fhK"
      },
      "outputs": [],
      "source": [
        "attrition_dummies = pd.get_dummies(attrition)\n",
        "feature_cols = list(attrition_dummies.columns.difference(['Attrition']))  # 타겟인 Attrition 제외\n",
        "X = attrition_dummies[feature_cols]  # 입력 변수\n",
        "y = attrition_dummies['Attrition'].astype('category')  # 타겟 변수"
      ]
    },
    {
      "cell_type": "markdown",
      "metadata": {},
      "source": [
        "## 학습용/테스트용 데이터 분할"
      ]
    },
    {
      "cell_type": "code",
      "execution_count": 14,
      "metadata": {
        "id": "tqWW9XmlDPBA"
      },
      "outputs": [],
      "source": [
        "train_X, test_X, train_y, test_y = train_test_split(\n",
        "    X, y,\n",
        "    train_size=0.80,  # 80% 학습, 20% 테스트\n",
        "    random_state=0     # 재현성을 위한 시드 고정\n",
        ")"
      ]
    },
    {
      "cell_type": "markdown",
      "metadata": {},
      "source": [
        "## 하이퍼파라미터 그리드 설정 및 탐색"
      ]
    },
    {
      "cell_type": "code",
      "execution_count": 15,
      "metadata": {
        "id": "dERIRtHQeArA"
      },
      "outputs": [
        {
          "name": "stdout",
          "output_type": "stream",
          "text": [
            "최적 하이퍼파라미터: {'learning_rate': 0.3, 'max_depth': 4, 'max_features': 0.7, 'min_samples_leaf': 2, 'n_estimators': 1000}\n",
            "교차검증 최고 정확도: 0.8622\n"
          ]
        }
      ],
      "source": [
        "param_grid = {\n",
        "    'n_estimators': [1000, 1500],     # 트리 개수\n",
        "    'max_depth': [4, 6],              # 최대 트리 깊이\n",
        "    'min_samples_leaf': [2, 4],       # 리프 노드 최소 샘플 수\n",
        "    'max_features': [0.7, 0.9],       # 피처 샘플링 비율\n",
        "    'learning_rate': [0.25, 0.3]      # 학습률\n",
        "}\n",
        "\n",
        "gbm = GradientBoostingClassifier(random_state=0)\n",
        "grid_cv = GridSearchCV(\n",
        "    gbm,\n",
        "    param_grid=param_grid,\n",
        "    cv=3,         # 3-겹 교차검증\n",
        "    n_jobs=-1,    # 모든 CPU 코어 활용\n",
        "    refit=True    # 최적 모델로 자동 재학습\n",
        ")\n",
        "grid_cv.fit(train_X, train_y)  # 학습 및 검증\n",
        "\n",
        "print('최적 하이퍼파라미터:', grid_cv.best_params_)\n",
        "print('교차검증 최고 정확도: {:.4f}'.format(grid_cv.best_score_))"
      ]
    },
    {
      "cell_type": "markdown",
      "metadata": {},
      "source": [
        "## 최종 모델 학습·예측·평가"
      ]
    },
    {
      "cell_type": "code",
      "execution_count": 16,
      "metadata": {
        "id": "TB9vO6Nv9mas"
      },
      "outputs": [
        {
          "name": "stdout",
          "output_type": "stream",
          "text": [
            "테스트 정확도: 0.8503\n",
            "로그 손실(Log Loss): 1.5945\n",
            "\n",
            "분류 리포트:\n",
            "              precision    recall  f1-score   support\n",
            "\n",
            "           0       0.87      0.96      0.91       245\n",
            "           1       0.60      0.31      0.41        49\n",
            "\n",
            "    accuracy                           0.85       294\n",
            "   macro avg       0.74      0.63      0.66       294\n",
            "weighted avg       0.83      0.85      0.83       294\n",
            "\n"
          ]
        }
      ],
      "source": [
        "best_model = grid_cv.best_estimator_  # refit된 최적 모델\n",
        "preds = best_model.predict(test_X)  # 클래스 예측\n",
        "preds_proba = best_model.predict_proba(test_X)[:, 1]  # 양성(Attrition=1) 확률\n",
        "\n",
        "print('테스트 정확도: {:.4f}'.format(accuracy_score(test_y, preds)))\n",
        "print('로그 손실(Log Loss): {:.4f}'.format(log_loss(test_y.cat.codes, preds_proba)))\n",
        "print('\\n분류 리포트:')\n",
        "print(classification_report(test_y, preds))\n",
        "\n"
      ]
    },
    {
      "cell_type": "markdown",
      "metadata": {},
      "source": [
        "## 변수 중요도 확인 및 시각화"
      ]
    },
    {
      "cell_type": "code",
      "execution_count": 17,
      "metadata": {
        "id": "BlfH9xYI-JuZ"
      },
      "outputs": [
        {
          "data": {
            "image/png": "[encoded data removed]",
            "text/plain": [
              "<Figure size 640x480 with 1 Axes>"
            ]
          },
          "metadata": {},
          "output_type": "display_data"
        }
      ],
      "source": [
        "import matplotlib.pyplot as plt\n",
        "import seaborn as sns\n",
        "\n",
        "importances = best_model.feature_importances_\n",
        "feat_imp = pd.DataFrame({\n",
        "    'Feature': feature_cols,\n",
        "    'Importance': importances\n",
        "}).sort_values('Importance', ascending=False).head(5)\n",
        "\n",
        "# Jupyter magic 대신 plt.show() 사용\n",
        "sns.barplot(x='Importance', y='Feature', data=feat_imp)\n",
        "plt.title('Top 5 Feature Importances')\n",
        "plt.tight_layout()\n",
        "plt.show()  # 플롯을 표시\n"
      ]
    }
  ],
  "metadata": {
    "colab": {
      "collapsed_sections": [],
      "include_colab_link": true,
      "name": "Boosting.ipynb",
      "provenance": []
    },
    "kernelspec": {
      "display_name": "Python 3",
      "name": "python3"
    },
    "language_info": {
      "codemirror_mode": {
        "name": "ipython",
        "version": 3
      },
      "file_extension": ".py",
      "mimetype": "text/x-python",
      "name": "python",
      "nbconvert_exporter": "python",
      "pygments_lexer": "ipython3",
      "version": "3.13.3"
    }
  },
  "nbformat": 4,
  "nbformat_minor": 0
}
