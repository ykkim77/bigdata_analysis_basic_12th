{
  "cells": [
    {
      "cell_type": "markdown",
      "metadata": {
        "id": "lZL0_yG8NXpg"
      },
      "source": [
        "# Naive Bayes 알고리즘을 활용한 iris 예측"
      ]
    },
    {
      "cell_type": "code",
      "execution_count": null,
      "metadata": {
        "id": "eR4IpJePuK3E"
      },
      "outputs": [],
      "source": [
        "# 필요한 라이브러리 불러오기\n",
        "\n",
        "from sklearn import datasets \n",
        "from sklearn.naive_bayes import GaussianNB  \n",
        "from sklearn.metrics import confusion_matrix \n",
        "import pandas as pd "
      ]
    },
    {
      "cell_type": "markdown",
      "metadata": {},
      "source": [
        "## 데이터 로드 및 DataFrame 생성"
      ]
    },
    {
      "cell_type": "code",
      "execution_count": null,
      "metadata": {},
      "outputs": [],
      "source": [
        "iris = datasets.load_iris()  # iris 데이터셋 로드\n",
        "# 특징(feature) 이름을 컬럼으로 지정하여 DataFrame 생성\n",
        "df_X = pd.DataFrame(iris.data, columns=iris.feature_names)\n",
        "# 타깃(target) 값을 DataFrame으로 변환\n",
        "df_Y = pd.DataFrame(iris.target, columns=['target'])"
      ]
    },
    {
      "cell_type": "markdown",
      "metadata": {},
      "source": [
        "## 데이터 확인 (간단히 출력)"
      ]
    },
    {
      "cell_type": "code",
      "execution_count": null,
      "metadata": {},
      "outputs": [],
      "source": [
        "df_X.head()          # 상위 5개 샘플의 특징값 확인  \n",
        "df_Y.value_counts()  # 각 클래스(0,1,2)가 몇 개씩 존재하는지 집계"
      ]
    },
    {
      "cell_type": "markdown",
      "metadata": {},
      "source": [
        "## 가우시안 나이브 베이즈 분류기 생성"
      ]
    },
    {
      "cell_type": "code",
      "execution_count": null,
      "metadata": {},
      "outputs": [],
      "source": [
        "# priors: [클래스0, 클래스1, 클래스2] 순서로 사전 확률 설정\n",
        "gnb1 = GaussianNB(priors=[0.1, 0.3, 0.6])"
      ]
    },
    {
      "cell_type": "markdown",
      "metadata": {},
      "source": [
        "## 모델 학습"
      ]
    },
    {
      "cell_type": "code",
      "execution_count": null,
      "metadata": {},
      "outputs": [],
      "source": [
        "# fit(X, y): X(입력 특징), y(타깃 레이블)로부터 모델 파라미터 추정\n",
        "fitted1 = gnb1.fit(iris.data, iris.target)"
      ]
    },
    {
      "cell_type": "markdown",
      "metadata": {},
      "source": [
        "## 학습 데이터에 대한 예측 (predict)"
      ]
    },
    {
      "cell_type": "code",
      "execution_count": null,
      "metadata": {},
      "outputs": [],
      "source": [
        "# predict: 학습 데이터에 대한 클래스 예측\n",
        "y_pred1 = fitted1.predict(iris.data)"
      ]
    },
    {
      "cell_type": "markdown",
      "metadata": {},
      "source": [
        "## 혼동 행렬(confusion matrix) 생성"
      ]
    },
    {
      "cell_type": "code",
      "execution_count": null,
      "metadata": {},
      "outputs": [],
      "source": [
        "# confusion_matrix: 실제 vs 예측 레이블 비교\n",
        "cm = confusion_matrix(iris.target, y_pred1)\n",
        "print(\"Confusion Matrix:\\n\", cm)"
      ]
    },
    {
      "cell_type": "markdown",
      "metadata": {},
      "source": [
        "## 정확도(Accuracy) 계산 및 출력"
      ]
    },
    {
      "cell_type": "code",
      "execution_count": null,
      "metadata": {},
      "outputs": [],
      "source": [
        "# (정답으로 예측된 샘플 수) / (전체 샘플 수) * 100\n",
        "accuracy = 100 * (iris.target == y_pred1).sum() / iris.data.shape[0]\n",
        "print(\"Accuracy = {:.2f}%\".format(accuracy))"
      ]
    },
    {
      "cell_type": "markdown",
      "metadata": {},
      "source": [
        "## 예측 확률 보정 (Calibration) – Sigmoid 방식"
      ]
    },
    {
      "cell_type": "code",
      "execution_count": null,
      "metadata": {},
      "outputs": [],
      "source": [
        "from sklearn.calibration import CalibratedClassifierCV  # 확률 보정용 클래스\n",
        "\n",
        "# cv=2: 2-폴드 교차검증, method='sigmoid': Platt scaling 사용\n",
        "classifier_sigmoid = CalibratedClassifierCV(gnb1, cv=2, method='sigmoid')\n",
        "# fit에는 1D array 형태의 y가 필요하므로 .values.ravel() 사용\n",
        "classifier_sigmoid.fit(df_X, df_Y.values.ravel())\n"
      ]
    },
    {
      "cell_type": "markdown",
      "metadata": {},
      "source": [
        "## 새로운 관측치에 대한 보정된 예측 확률 출력"
      ]
    },
    {
      "cell_type": "code",
      "execution_count": null,
      "metadata": {},
      "outputs": [],
      "source": [
        "new_observation = [[6.0, 2.6, 5.0, 1.7]]\n",
        "classifer_sigmoid.predict_proba(new_observation)\n"
      ]
    }
  ],
  "metadata": {
    "colab": {
      "provenance": []
    },
    "kernelspec": {
      "display_name": "Python 3",
      "name": "python3"
    },
    "language_info": {
      "codemirror_mode": {
        "name": "ipython",
        "version": 3
      },
      "file_extension": ".py",
      "mimetype": "text/x-python",
      "name": "python",
      "nbconvert_exporter": "python",
      "pygments_lexer": "ipython3",
      "version": "3.12.0"
    }
  },
  "nbformat": 4,
  "nbformat_minor": 0
}
